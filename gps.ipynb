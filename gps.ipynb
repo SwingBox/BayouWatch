{
 "cells": [
  {
   "cell_type": "code",
   "execution_count": null,
   "id": "24ebc063",
   "metadata": {},
   "outputs": [
    {
     "name": "stderr",
     "output_type": "stream",
     "text": [
      "c:\\Users\\viole\\anaconda3\\envs\\projets\\Lib\\site-packages\\pyogrio\\core.py:35: RuntimeWarning: Could not detect GDAL data files.  Set GDAL_DATA environment variable to the correct path.\n",
      "  _init_gdal_data()\n"
     ]
    }
   ],
   "source": [
    "import geopandas as gpd\n",
    "\n",
    "# Charge le fichier GeoJSON\n",
    "gdf = gpd.read_file(\"map.geojson\")\n",
    "\n",
    "# Récupère le polygone (la zone de \"Louisiane-Bayou\")\n",
    "polygon = gdf.geometry.iloc[0]\n"
   ]
  },
  {
   "cell_type": "code",
   "execution_count": null,
   "id": "ea74ce35",
   "metadata": {},
   "outputs": [],
   "source": [
    "# D'abord je crée une boucle pour lister toutes les coordonnées de 0.5*0.5 dans un carré qui va englober notre zone \"Louisiane-Bayou\"\n",
    "import numpy as np\n",
    "\n",
    "coordonnées=[]\n",
    "for lat in np.arange(29,34.5,0.5):\n",
    "    for long in np.arange(-95,-89.5,0.5):\n",
    "        coordonnées.append((long,lat))"
   ]
  },
  {
   "cell_type": "code",
   "execution_count": 9,
   "id": "0cee733d",
   "metadata": {},
   "outputs": [],
   "source": [
    "# Là j'importe shapely qui, apparemment manipule les objets 2D, comme le polygone que j'ai créé en geopandas sur le site web.\n",
    "from shapely.geometry import Point\n",
    "\n",
    "#Je crée une liste d'objet Point (spécifique à shapely) qui sont dans mon \"polygon\" de départ (ma zone \"Louisianne-Bayou\")(geometry; c'est la colonne;crs: le type de coordonnées GPS)\n",
    "geometry = [Point(lon, lat) for lon, lat in polygon.exterior.coords]\n",
    "\n",
    "# Je crée un GeoDataFrame\n",
    "df_coordonnees = gpd.GeoDataFrame(geometry=geometry, crs=\"EPSG:4326\")\n"
   ]
  },
  {
   "cell_type": "code",
   "execution_count": 10,
   "id": "c05cef95",
   "metadata": {},
   "outputs": [
    {
     "data": {
      "text/html": [
       "<div>\n",
       "<style scoped>\n",
       "    .dataframe tbody tr th:only-of-type {\n",
       "        vertical-align: middle;\n",
       "    }\n",
       "\n",
       "    .dataframe tbody tr th {\n",
       "        vertical-align: top;\n",
       "    }\n",
       "\n",
       "    .dataframe thead th {\n",
       "        text-align: right;\n",
       "    }\n",
       "</style>\n",
       "<table border=\"1\" class=\"dataframe\">\n",
       "  <thead>\n",
       "    <tr style=\"text-align: right;\">\n",
       "      <th></th>\n",
       "      <th>geometry</th>\n",
       "    </tr>\n",
       "  </thead>\n",
       "  <tbody>\n",
       "    <tr>\n",
       "      <th>0</th>\n",
       "      <td>POINT (-93.71779 33.01355)</td>\n",
       "    </tr>\n",
       "    <tr>\n",
       "      <th>1</th>\n",
       "      <td>POINT (-92.91016 31.96354)</td>\n",
       "    </tr>\n",
       "    <tr>\n",
       "      <th>2</th>\n",
       "      <td>POINT (-92.43209 31.43886)</td>\n",
       "    </tr>\n",
       "    <tr>\n",
       "      <th>3</th>\n",
       "      <td>POINT (-91.9419 31.80882)</td>\n",
       "    </tr>\n",
       "    <tr>\n",
       "      <th>4</th>\n",
       "      <td>POINT (-92.25546 31.96769)</td>\n",
       "    </tr>\n",
       "  </tbody>\n",
       "</table>\n",
       "</div>"
      ],
      "text/plain": [
       "                     geometry\n",
       "0  POINT (-93.71779 33.01355)\n",
       "1  POINT (-92.91016 31.96354)\n",
       "2  POINT (-92.43209 31.43886)\n",
       "3   POINT (-91.9419 31.80882)\n",
       "4  POINT (-92.25546 31.96769)"
      ]
     },
     "execution_count": 10,
     "metadata": {},
     "output_type": "execute_result"
    }
   ],
   "source": [
    "df_coordonnees.head(5)"
   ]
  }
 ],
 "metadata": {
  "kernelspec": {
   "display_name": "projets",
   "language": "python",
   "name": "python3"
  },
  "language_info": {
   "codemirror_mode": {
    "name": "ipython",
    "version": 3
   },
   "file_extension": ".py",
   "mimetype": "text/x-python",
   "name": "python",
   "nbconvert_exporter": "python",
   "pygments_lexer": "ipython3",
   "version": "3.12.11"
  }
 },
 "nbformat": 4,
 "nbformat_minor": 5
}
